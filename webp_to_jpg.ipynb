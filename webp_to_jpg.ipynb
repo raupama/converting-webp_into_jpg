{
 "cells": [
  {
   "cell_type": "code",
   "execution_count": 1,
   "id": "61e8ac37-9ec3-436b-98ca-852ee06b288a",
   "metadata": {},
   "outputs": [
    {
     "name": "stdout",
     "output_type": "stream",
     "text": [
      "Conversion successful! Saved as output.jpg\n"
     ]
    }
   ],
   "source": [
    "import cv2\n",
    "\n",
    "# Load the image (Change \"input.webp\" or \"input.avif\" to your file)\n",
    "image = cv2.imread(r\"C:\\Users\\Upama\\Desktop\\Sign\\easiest-way-to-create-a-fake-handwritten-signature-for-logo-v0-42ijijcv16wb1.webp\")  # Or use \"input.avif\"\n",
    "\n",
    "# Save it as a JPG\n",
    "cv2.imwrite(\"output.jpg\", image)\n",
    "\n",
    "print(\"Conversion successful! Saved as output.jpg\")\n"
   ]
  },
  {
   "cell_type": "code",
   "execution_count": 2,
   "id": "112117d8-9662-44b7-bb5b-50bd348d12bc",
   "metadata": {},
   "outputs": [
    {
     "name": "stdout",
     "output_type": "stream",
     "text": [
      "Output file saved at: C:\\Users\\Upama\\output.jpg\n"
     ]
    }
   ],
   "source": [
    "import os\n",
    "print(\"Output file saved at:\", os.path.abspath(\"output.jpg\"))\n"
   ]
  },
  {
   "cell_type": "code",
   "execution_count": null,
   "id": "8e4c07ca-b65d-4b04-8ec2-2f89879a0471",
   "metadata": {},
   "outputs": [],
   "source": []
  }
 ],
 "metadata": {
  "kernelspec": {
   "display_name": "Python 3 (ipykernel)",
   "language": "python",
   "name": "python3"
  },
  "language_info": {
   "codemirror_mode": {
    "name": "ipython",
    "version": 3
   },
   "file_extension": ".py",
   "mimetype": "text/x-python",
   "name": "python",
   "nbconvert_exporter": "python",
   "pygments_lexer": "ipython3",
   "version": "3.12.4"
  }
 },
 "nbformat": 4,
 "nbformat_minor": 5
}
