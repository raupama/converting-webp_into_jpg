{
 "cells": [
  {
   "cell_type": "markdown",
   "id": "572f075b-a257-4fb3-a121-a992cd7b4ab0",
   "metadata": {},
   "source": [
    "Import Pillow"
   ]
  },
  {
   "cell_type": "code",
   "execution_count": 1,
   "id": "fda7ce05-0f62-437a-a3d5-185658ee7d52",
   "metadata": {},
   "outputs": [],
   "source": [
    "from PIL import Image"
   ]
  },
  {
   "cell_type": "markdown",
   "id": "c9ee1405-c665-4bb5-a783-f6d3811f4ae5",
   "metadata": {},
   "source": [
    "Load the Image location as filename"
   ]
  },
  {
   "cell_type": "code",
   "execution_count": 2,
   "id": "5f5317f0-ead9-4b41-8d1b-034f8377a47a",
   "metadata": {},
   "outputs": [],
   "source": [
    "filename = \"C:\\\\Users\\\\Upama\\\\Desktop\\\\Pillow\\\\moana.png\""
   ]
  },
  {
   "cell_type": "markdown",
   "id": "d6295131-2caf-4965-addb-3f68cde5ee2b",
   "metadata": {},
   "source": [
    "Load and show the image as im"
   ]
  },
  {
   "cell_type": "code",
   "execution_count": 3,
   "id": "2c655f6b-506f-4b7c-869d-4c3fa358eda9",
   "metadata": {},
   "outputs": [],
   "source": [
    "im = Image.open(filename)\n",
    "im.show()"
   ]
  },
  {
   "cell_type": "markdown",
   "id": "58b8648e-1975-4df7-8494-d329994f693c",
   "metadata": {},
   "source": [
    "See the detailed information about the image"
   ]
  },
  {
   "cell_type": "code",
   "execution_count": 7,
   "id": "b7bd18cc-a8ec-4d03-a317-83d08a1821e9",
   "metadata": {},
   "outputs": [
    {
     "name": "stdout",
     "output_type": "stream",
     "text": [
      "<PIL.PngImagePlugin.PngImageFile image mode=RGB size=1595x1200 at 0x24F6C2C2C60>\n"
     ]
    }
   ],
   "source": [
    "print(im)"
   ]
  },
  {
   "cell_type": "markdown",
   "id": "f62a1dbd-0ae1-40b0-b742-c9b2c55ea91d",
   "metadata": {},
   "source": [
    "Resize Code"
   ]
  },
  {
   "cell_type": "code",
   "execution_count": 9,
   "id": "c0fbcf7d-e985-43a1-a995-09b28b28773d",
   "metadata": {},
   "outputs": [],
   "source": [
    "new_size = (500, 400)  # Change this to your desired size\n",
    "resized_im = im.resize(new_size)\n",
    "resized_im.show()"
   ]
  },
  {
   "cell_type": "code",
   "execution_count": null,
   "id": "476d8848-b69c-4204-8a67-fb7bc387ac92",
   "metadata": {},
   "outputs": [],
   "source": []
  }
 ],
 "metadata": {
  "kernelspec": {
   "display_name": "Python 3 (ipykernel)",
   "language": "python",
   "name": "python3"
  },
  "language_info": {
   "codemirror_mode": {
    "name": "ipython",
    "version": 3
   },
   "file_extension": ".py",
   "mimetype": "text/x-python",
   "name": "python",
   "nbconvert_exporter": "python",
   "pygments_lexer": "ipython3",
   "version": "3.12.4"
  }
 },
 "nbformat": 4,
 "nbformat_minor": 5
}
